{
 "cells": [
  {
   "cell_type": "code",
   "execution_count": 11,
   "metadata": {},
   "outputs": [],
   "source": [
    "import smtplib\n",
    "from email.message import EmailMessage\n",
    "\n",
    "# Create the email message\n",
    "msg = EmailMessage()\n",
    "msg['Subject'] = 'Hello, world!'\n",
    "msg['From'] = 'keerthikiran.m17@gmail.com'\n",
    "msg['To'] = 'keerthikiran.m17@gmail.com'\n",
    "msg.set_content('This is the body of the email.')\n",
    "\n",
    "# Send the email\n",
    "with smtplib.SMTP('smtp.gmail.com', 587) as server:\n",
    "    server.starttls()\n",
    "    server.login('keerthikiran.m17@gmail.com', 'vghm gfyr tttj tetm') ## current password is revoked, should create new password to work again\n",
    "    #server.send_message(msg)\n",
    "    responce = server.sendmail(\"keerthikiran.m17@gmail.com\",['keerthikiran.m17@gmail.com'],msg.as_string())\n",
    "    responce\n"
   ]
  }
 ],
 "metadata": {
  "kernelspec": {
   "display_name": "Python 3",
   "language": "python",
   "name": "python3"
  },
  "language_info": {
   "codemirror_mode": {
    "name": "ipython",
    "version": 3
   },
   "file_extension": ".py",
   "mimetype": "text/x-python",
   "name": "python",
   "nbconvert_exporter": "python",
   "pygments_lexer": "ipython3",
   "version": "3.12.0"
  }
 },
 "nbformat": 4,
 "nbformat_minor": 2
}
